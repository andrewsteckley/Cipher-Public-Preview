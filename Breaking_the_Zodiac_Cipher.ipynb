{
 "cells": [
  {
   "cell_type": "markdown",
   "metadata": {},
   "source": [
    "# Cipher Solver - Breaking the Zodiac Cipher"
   ]
  },
  {
   "cell_type": "markdown",
   "metadata": {},
   "source": [
    "\n",
    "\n",
    "*Andrew Steckley, PhD"
   ]
  },
  {
   "cell_type": "markdown",
   "metadata": {},
   "source": [
    "This is a preview of one of the main notebooks in my Cipher project.  The complete system of notebooks, code, and tools, and test results will be made public soon."
   ]
  },
  {
   "cell_type": "markdown",
   "metadata": {
    "toc": true
   },
   "source": [
    "<h1>Table of Contents<span class=\"tocSkip\"></span></h1>\n",
    "<div class=\"toc\"><ul class=\"toc-item\"><li><span><a href=\"#A-Brief-Background-on-the-Zodiac-Killer\" data-toc-modified-id=\"A-Brief-Background-on-the-Zodiac-Killer-1\"><span class=\"toc-item-num\">1&nbsp;&nbsp;</span>A Brief Background on the Zodiac Killer</a></span><ul class=\"toc-item\"><li><span><a href=\"#Oranchak's-Zodiac-Symbol-Font\" data-toc-modified-id=\"Oranchak's-Zodiac-Symbol-Font-1.1\"><span class=\"toc-item-num\">1.1&nbsp;&nbsp;</span>Oranchak's Zodiac Symbol Font</a></span></li></ul></li><li><span><a href=\"#The-Challenges-of-Cipher-Solving\" data-toc-modified-id=\"The-Challenges-of-Cipher-Solving-2\"><span class=\"toc-item-num\">2&nbsp;&nbsp;</span>The Challenges of Cipher Solving</a></span></li><li><span><a href=\"#Corpus-of-Zodiac-Killer-Writings\" data-toc-modified-id=\"Corpus-of-Zodiac-Killer-Writings-3\"><span class=\"toc-item-num\">3&nbsp;&nbsp;</span>Corpus of Zodiac Killer Writings</a></span></li><li><span><a href=\"#MessageGenerator\" data-toc-modified-id=\"MessageGenerator-4\"><span class=\"toc-item-num\">4&nbsp;&nbsp;</span>MessageGenerator</a></span></li><li><span><a href=\"#MessageCorpus\" data-toc-modified-id=\"MessageCorpus-5\"><span class=\"toc-item-num\">5&nbsp;&nbsp;</span>MessageCorpus</a></span></li><li><span><a href=\"#LanguageModel\" data-toc-modified-id=\"LanguageModel-6\"><span class=\"toc-item-num\">6&nbsp;&nbsp;</span>LanguageModel</a></span></li><li><span><a href=\"#CipherKey\" data-toc-modified-id=\"CipherKey-7\"><span class=\"toc-item-num\">7&nbsp;&nbsp;</span>CipherKey</a></span></li><li><span><a href=\"#CipherScorer\" data-toc-modified-id=\"CipherScorer-8\"><span class=\"toc-item-num\">8&nbsp;&nbsp;</span>CipherScorer</a></span><ul class=\"toc-item\"><li><span><a href=\"#Scoring-System\" data-toc-modified-id=\"Scoring-System-8.1\"><span class=\"toc-item-num\">8.1&nbsp;&nbsp;</span>Scoring System</a></span><ul class=\"toc-item\"><li><span><a href=\"#Position-Scores\" data-toc-modified-id=\"Position-Scores-8.1.1\"><span class=\"toc-item-num\">8.1.1&nbsp;&nbsp;</span>Position Scores</a></span></li><li><span><a href=\"#Letter-Scores\" data-toc-modified-id=\"Letter-Scores-8.1.2\"><span class=\"toc-item-num\">8.1.2&nbsp;&nbsp;</span>Letter Scores</a></span></li><li><span><a href=\"#Symbol-Scores\" data-toc-modified-id=\"Symbol-Scores-8.1.3\"><span class=\"toc-item-num\">8.1.3&nbsp;&nbsp;</span>Symbol Scores</a></span></li></ul></li></ul></li><li><span><a href=\"#A-Compass-for-Cipher-Directed-Search\" data-toc-modified-id=\"A-Compass-for-Cipher-Directed-Search-9\"><span class=\"toc-item-num\">9&nbsp;&nbsp;</span>A Compass for Cipher Directed Search</a></span></li><li><span><a href=\"#Navigating-out-of-the-Lowlands\" data-toc-modified-id=\"Navigating-out-of-the-Lowlands-10\"><span class=\"toc-item-num\">10&nbsp;&nbsp;</span>Navigating out of the Lowlands</a></span></li><li><span><a href=\"#Cipher-Solver-System\" data-toc-modified-id=\"Cipher-Solver-System-11\"><span class=\"toc-item-num\">11&nbsp;&nbsp;</span>Cipher Solver System</a></span></li><li><span><a href=\"#Symbol-Mutation-Neural-Network\" data-toc-modified-id=\"Symbol-Mutation-Neural-Network-12\"><span class=\"toc-item-num\">12&nbsp;&nbsp;</span>Symbol Mutation Neural Network</a></span></li><li><span><a href=\"#Gene-Sensor-Neural-Network\" data-toc-modified-id=\"Gene-Sensor-Neural-Network-13\"><span class=\"toc-item-num\">13&nbsp;&nbsp;</span>Gene Sensor Neural Network</a></span></li><li><span><a href=\"#Cipher-Compass\" data-toc-modified-id=\"Cipher-Compass-14\"><span class=\"toc-item-num\">14&nbsp;&nbsp;</span>Cipher Compass</a></span></li><li><span><a href=\"#Genetic-Scorer\" data-toc-modified-id=\"Genetic-Scorer-15\"><span class=\"toc-item-num\">15&nbsp;&nbsp;</span>Genetic Scorer</a></span></li><li><span><a href=\"#Genetic-Algorithm\" data-toc-modified-id=\"Genetic-Algorithm-16\"><span class=\"toc-item-num\">16&nbsp;&nbsp;</span>Genetic Algorithm</a></span><ul class=\"toc-item\"><li><span><a href=\"#Build-Strong-Gene-Pool\" data-toc-modified-id=\"Build-Strong-Gene-Pool-16.1\"><span class=\"toc-item-num\">16.1&nbsp;&nbsp;</span>Build Strong Gene Pool</a></span></li><li><span><a href=\"#Mating-Process\" data-toc-modified-id=\"Mating-Process-16.2\"><span class=\"toc-item-num\">16.2&nbsp;&nbsp;</span>Mating Process</a></span></li></ul></li><li><span><a href=\"#Word-Splitter-Neural-Network\" data-toc-modified-id=\"Word-Splitter-Neural-Network-17\"><span class=\"toc-item-num\">17&nbsp;&nbsp;</span>Word Splitter Neural Network</a></span></li><li><span><a href=\"#Cipher-Tools-Overview\" data-toc-modified-id=\"Cipher-Tools-Overview-18\"><span class=\"toc-item-num\">18&nbsp;&nbsp;</span>Cipher Tools Overview</a></span></li></ul></div>"
   ]
  }
 ],
 "metadata": {
  "kernelspec": {
   "display_name": "Python 3",
   "language": "python",
   "name": "python3"
  },
  "language_info": {
   "codemirror_mode": {
    "name": "ipython",
    "version": 3
   },
   "file_extension": ".py",
   "mimetype": "text/x-python",
   "name": "python",
   "nbconvert_exporter": "python",
   "pygments_lexer": "ipython3",
   "version": "3.6.8"
  },
  "latex_metadata": {
   "affiliation": "Steckley & Associates",
   "author": "Andrew Steckley, PhD",
   "title": "Solving Ciphers"
  },
  "toc": {
   "base_numbering": 1,
   "nav_menu": {
    "height": "234px",
    "width": "376px"
   },
   "number_sections": true,
   "sideBar": true,
   "skip_h1_title": true,
   "title_cell": "Table of Contents",
   "title_sidebar": "Contents",
   "toc_cell": true,
   "toc_position": {
    "height": "calc(100% - 180px)",
    "left": "10px",
    "top": "150px",
    "width": "351.797px"
   },
   "toc_section_display": true,
   "toc_window_display": true
  },
  "varInspector": {
   "cols": {
    "lenName": 16,
    "lenType": 16,
    "lenVar": 40
   },
   "kernels_config": {
    "python": {
     "delete_cmd_postfix": "",
     "delete_cmd_prefix": "del ",
     "library": "var_list.py",
     "varRefreshCmd": "print(var_dic_list())"
    },
    "r": {
     "delete_cmd_postfix": ") ",
     "delete_cmd_prefix": "rm(",
     "library": "var_list.r",
     "varRefreshCmd": "cat(var_dic_list()) "
    }
   },
   "oldHeight": 526,
   "position": {
    "height": "40px",
    "left": "1024px",
    "right": "20px",
    "top": "102px",
    "width": "582px"
   },
   "types_to_exclude": [
    "module",
    "function",
    "builtin_function_or_method",
    "instance",
    "_Feature"
   ],
   "varInspector_section_display": "none",
   "window_display": false
  }
 },
 "nbformat": 4,
 "nbformat_minor": 2
}
